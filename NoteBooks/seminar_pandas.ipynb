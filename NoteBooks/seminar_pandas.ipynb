{
 "cells": [
  {
   "cell_type": "code",
   "execution_count": 2,
   "metadata": {},
   "outputs": [
    {
     "name": "stdout",
     "output_type": "stream",
     "text": [
      "/Users/talgat\r\n"
     ]
    }
   ],
   "source": [
    "! pwd"
   ]
  },
  {
   "cell_type": "code",
   "execution_count": 3,
   "metadata": {
    "collapsed": true
   },
   "outputs": [],
   "source": [
    "import numpy as np"
   ]
  },
  {
   "cell_type": "code",
   "execution_count": 5,
   "metadata": {
    "collapsed": true
   },
   "outputs": [],
   "source": [
    "marks = np.loadtxt('./data_sem1_hw.txt.html')"
   ]
  },
  {
   "cell_type": "code",
   "execution_count": 7,
   "metadata": {
    "collapsed": true
   },
   "outputs": [],
   "source": [
    "import pandas as pd"
   ]
  },
  {
   "cell_type": "code",
   "execution_count": 9,
   "metadata": {},
   "outputs": [
    {
     "data": {
      "text/plain": [
       "array([[ 0.90831225,  0.18954499,  0.67645085,  0.38037328,  0.76449045],\n",
       "       [ 0.3277263 ,  0.71572707,  0.53676655,  0.40515577,  0.26145721],\n",
       "       [ 0.14425713,  0.00970546,  0.67652157,  0.79627114,  0.46937536],\n",
       "       [ 0.96411529,  0.21350336,  0.42391188,  0.3387167 ,  0.33927603],\n",
       "       [ 0.3243015 ,  0.81925468,  0.48087453,  0.84066236,  0.68172425]])"
      ]
     },
     "execution_count": 9,
     "metadata": {},
     "output_type": "execute_result"
    }
   ],
   "source": [
    "content = np.random.random((5, 5))\n",
    "content "
   ]
  },
  {
   "cell_type": "code",
   "execution_count": 18,
   "metadata": {},
   "outputs": [
    {
     "data": {
      "text/html": [
       "<div>\n",
       "<table border=\"1\" class=\"dataframe\">\n",
       "  <thead>\n",
       "    <tr style=\"text-align: right;\">\n",
       "      <th></th>\n",
       "      <th>A</th>\n",
       "      <th>B</th>\n",
       "      <th>C</th>\n",
       "      <th>D</th>\n",
       "      <th>E</th>\n",
       "    </tr>\n",
       "  </thead>\n",
       "  <tbody>\n",
       "    <tr>\n",
       "      <th>a</th>\n",
       "      <td>0.908312</td>\n",
       "      <td>0.189545</td>\n",
       "      <td>0.676451</td>\n",
       "      <td>0.380373</td>\n",
       "      <td>0.764490</td>\n",
       "    </tr>\n",
       "    <tr>\n",
       "      <th>b</th>\n",
       "      <td>0.327726</td>\n",
       "      <td>0.715727</td>\n",
       "      <td>0.536767</td>\n",
       "      <td>0.405156</td>\n",
       "      <td>0.261457</td>\n",
       "    </tr>\n",
       "    <tr>\n",
       "      <th>c</th>\n",
       "      <td>0.144257</td>\n",
       "      <td>0.009705</td>\n",
       "      <td>0.676522</td>\n",
       "      <td>0.796271</td>\n",
       "      <td>0.469375</td>\n",
       "    </tr>\n",
       "    <tr>\n",
       "      <th>d</th>\n",
       "      <td>0.964115</td>\n",
       "      <td>0.213503</td>\n",
       "      <td>0.423912</td>\n",
       "      <td>0.338717</td>\n",
       "      <td>0.339276</td>\n",
       "    </tr>\n",
       "    <tr>\n",
       "      <th>e</th>\n",
       "      <td>0.324302</td>\n",
       "      <td>0.819255</td>\n",
       "      <td>0.480875</td>\n",
       "      <td>0.840662</td>\n",
       "      <td>0.681724</td>\n",
       "    </tr>\n",
       "  </tbody>\n",
       "</table>\n",
       "</div>"
      ],
      "text/plain": [
       "          A         B         C         D         E\n",
       "a  0.908312  0.189545  0.676451  0.380373  0.764490\n",
       "b  0.327726  0.715727  0.536767  0.405156  0.261457\n",
       "c  0.144257  0.009705  0.676522  0.796271  0.469375\n",
       "d  0.964115  0.213503  0.423912  0.338717  0.339276\n",
       "e  0.324302  0.819255  0.480875  0.840662  0.681724"
      ]
     },
     "execution_count": 18,
     "metadata": {},
     "output_type": "execute_result"
    }
   ],
   "source": [
    "df1 = pd.DataFrame(content, columns=['A', 'B', 'C', 'D', 'E'],\n",
    "                  index=['a', 'b', 'c', 'd', 'e'])\n",
    "df1"
   ]
  },
  {
   "cell_type": "code",
   "execution_count": 17,
   "metadata": {},
   "outputs": [
    {
     "data": {
      "text/html": [
       "<div>\n",
       "<table border=\"1\" class=\"dataframe\">\n",
       "  <thead>\n",
       "    <tr style=\"text-align: right;\">\n",
       "      <th></th>\n",
       "      <th>A</th>\n",
       "      <th>B</th>\n",
       "      <th>C</th>\n",
       "      <th>D</th>\n",
       "      <th>E</th>\n",
       "    </tr>\n",
       "  </thead>\n",
       "  <tbody>\n",
       "    <tr>\n",
       "      <th>0</th>\n",
       "      <td>0.645995</td>\n",
       "      <td>0.430246</td>\n",
       "      <td>0.288021</td>\n",
       "      <td>0.747365</td>\n",
       "      <td>0.052736</td>\n",
       "    </tr>\n",
       "    <tr>\n",
       "      <th>1</th>\n",
       "      <td>0.975048</td>\n",
       "      <td>0.565058</td>\n",
       "      <td>0.864440</td>\n",
       "      <td>0.040936</td>\n",
       "      <td>0.666674</td>\n",
       "    </tr>\n",
       "    <tr>\n",
       "      <th>2</th>\n",
       "      <td>0.584044</td>\n",
       "      <td>0.290276</td>\n",
       "      <td>0.182525</td>\n",
       "      <td>0.712779</td>\n",
       "      <td>0.078593</td>\n",
       "    </tr>\n",
       "    <tr>\n",
       "      <th>3</th>\n",
       "      <td>0.340777</td>\n",
       "      <td>0.421373</td>\n",
       "      <td>0.203303</td>\n",
       "      <td>0.962690</td>\n",
       "      <td>0.826172</td>\n",
       "    </tr>\n",
       "    <tr>\n",
       "      <th>4</th>\n",
       "      <td>0.043055</td>\n",
       "      <td>0.562553</td>\n",
       "      <td>0.952717</td>\n",
       "      <td>0.687978</td>\n",
       "      <td>0.736723</td>\n",
       "    </tr>\n",
       "  </tbody>\n",
       "</table>\n",
       "</div>"
      ],
      "text/plain": [
       "          A         B         C         D         E\n",
       "0  0.645995  0.430246  0.288021  0.747365  0.052736\n",
       "1  0.975048  0.565058  0.864440  0.040936  0.666674\n",
       "2  0.584044  0.290276  0.182525  0.712779  0.078593\n",
       "3  0.340777  0.421373  0.203303  0.962690  0.826172\n",
       "4  0.043055  0.562553  0.952717  0.687978  0.736723"
      ]
     },
     "execution_count": 17,
     "metadata": {},
     "output_type": "execute_result"
    }
   ],
   "source": [
    "d = {'A': np.random.random(5),\n",
    "    'B': np.random.random(5),\n",
    "    'C': np.random.random(5),\n",
    "    'D': np.random.random(5),\n",
    "    'E': np.random.random(5)}\n",
    "df2 = pd.DataFrame(d)\n",
    "df2"
   ]
  },
  {
   "cell_type": "code",
   "execution_count": 22,
   "metadata": {},
   "outputs": [
    {
     "data": {
      "text/html": [
       "<div>\n",
       "<table border=\"1\" class=\"dataframe\">\n",
       "  <thead>\n",
       "    <tr style=\"text-align: right;\">\n",
       "      <th></th>\n",
       "      <th>A</th>\n",
       "      <th>B</th>\n",
       "      <th>C</th>\n",
       "      <th>D</th>\n",
       "      <th>E</th>\n",
       "    </tr>\n",
       "  </thead>\n",
       "  <tbody>\n",
       "    <tr>\n",
       "      <th>a</th>\n",
       "      <td>0.908312</td>\n",
       "      <td>0.189545</td>\n",
       "      <td>0.676451</td>\n",
       "      <td>0.380373</td>\n",
       "      <td>0.764490</td>\n",
       "    </tr>\n",
       "    <tr>\n",
       "      <th>b</th>\n",
       "      <td>0.327726</td>\n",
       "      <td>0.715727</td>\n",
       "      <td>0.536767</td>\n",
       "      <td>0.405156</td>\n",
       "      <td>0.261457</td>\n",
       "    </tr>\n",
       "    <tr>\n",
       "      <th>c</th>\n",
       "      <td>0.144257</td>\n",
       "      <td>0.009705</td>\n",
       "      <td>0.676522</td>\n",
       "      <td>0.796271</td>\n",
       "      <td>0.469375</td>\n",
       "    </tr>\n",
       "    <tr>\n",
       "      <th>d</th>\n",
       "      <td>0.964115</td>\n",
       "      <td>0.213503</td>\n",
       "      <td>0.423912</td>\n",
       "      <td>0.338717</td>\n",
       "      <td>0.339276</td>\n",
       "    </tr>\n",
       "    <tr>\n",
       "      <th>e</th>\n",
       "      <td>0.324302</td>\n",
       "      <td>0.819255</td>\n",
       "      <td>0.480875</td>\n",
       "      <td>0.840662</td>\n",
       "      <td>0.681724</td>\n",
       "    </tr>\n",
       "    <tr>\n",
       "      <th>0</th>\n",
       "      <td>0.645995</td>\n",
       "      <td>0.430246</td>\n",
       "      <td>0.288021</td>\n",
       "      <td>0.747365</td>\n",
       "      <td>0.052736</td>\n",
       "    </tr>\n",
       "    <tr>\n",
       "      <th>1</th>\n",
       "      <td>0.975048</td>\n",
       "      <td>0.565058</td>\n",
       "      <td>0.864440</td>\n",
       "      <td>0.040936</td>\n",
       "      <td>0.666674</td>\n",
       "    </tr>\n",
       "    <tr>\n",
       "      <th>2</th>\n",
       "      <td>0.584044</td>\n",
       "      <td>0.290276</td>\n",
       "      <td>0.182525</td>\n",
       "      <td>0.712779</td>\n",
       "      <td>0.078593</td>\n",
       "    </tr>\n",
       "    <tr>\n",
       "      <th>3</th>\n",
       "      <td>0.340777</td>\n",
       "      <td>0.421373</td>\n",
       "      <td>0.203303</td>\n",
       "      <td>0.962690</td>\n",
       "      <td>0.826172</td>\n",
       "    </tr>\n",
       "    <tr>\n",
       "      <th>4</th>\n",
       "      <td>0.043055</td>\n",
       "      <td>0.562553</td>\n",
       "      <td>0.952717</td>\n",
       "      <td>0.687978</td>\n",
       "      <td>0.736723</td>\n",
       "    </tr>\n",
       "  </tbody>\n",
       "</table>\n",
       "</div>"
      ],
      "text/plain": [
       "          A         B         C         D         E\n",
       "a  0.908312  0.189545  0.676451  0.380373  0.764490\n",
       "b  0.327726  0.715727  0.536767  0.405156  0.261457\n",
       "c  0.144257  0.009705  0.676522  0.796271  0.469375\n",
       "d  0.964115  0.213503  0.423912  0.338717  0.339276\n",
       "e  0.324302  0.819255  0.480875  0.840662  0.681724\n",
       "0  0.645995  0.430246  0.288021  0.747365  0.052736\n",
       "1  0.975048  0.565058  0.864440  0.040936  0.666674\n",
       "2  0.584044  0.290276  0.182525  0.712779  0.078593\n",
       "3  0.340777  0.421373  0.203303  0.962690  0.826172\n",
       "4  0.043055  0.562553  0.952717  0.687978  0.736723"
      ]
     },
     "execution_count": 22,
     "metadata": {},
     "output_type": "execute_result"
    }
   ],
   "source": [
    "df = pd.concat([df1, df2], axis=0)\n",
    "df"
   ]
  },
  {
   "cell_type": "code",
   "execution_count": 24,
   "metadata": {},
   "outputs": [
    {
     "data": {
      "text/plain": [
       "(Index(['a', 'b', 'c', 'd', 'e', 0, 1, 2, 3, 4], dtype='object'),\n",
       " Index(['A', 'B', 'C', 'D', 'E'], dtype='object'))"
      ]
     },
     "execution_count": 24,
     "metadata": {},
     "output_type": "execute_result"
    }
   ],
   "source": [
    "df.index, df.columns"
   ]
  },
  {
   "cell_type": "code",
   "execution_count": 25,
   "metadata": {
    "collapsed": true
   },
   "outputs": [],
   "source": [
    "df.columns = ['A', 'B', 'C', 'D', 'EE']"
   ]
  },
  {
   "cell_type": "code",
   "execution_count": 30,
   "metadata": {},
   "outputs": [
    {
     "data": {
      "text/html": [
       "<div>\n",
       "<table border=\"1\" class=\"dataframe\">\n",
       "  <thead>\n",
       "    <tr style=\"text-align: right;\">\n",
       "      <th></th>\n",
       "      <th>A</th>\n",
       "      <th>B</th>\n",
       "      <th>C</th>\n",
       "      <th>D</th>\n",
       "      <th>EE</th>\n",
       "    </tr>\n",
       "  </thead>\n",
       "  <tbody>\n",
       "    <tr>\n",
       "      <th>a</th>\n",
       "      <td>0.908312</td>\n",
       "      <td>0.189545</td>\n",
       "      <td>0.676451</td>\n",
       "      <td>0.380373</td>\n",
       "      <td>0.764490</td>\n",
       "    </tr>\n",
       "    <tr>\n",
       "      <th>b</th>\n",
       "      <td>0.327726</td>\n",
       "      <td>0.715727</td>\n",
       "      <td>0.536767</td>\n",
       "      <td>0.405156</td>\n",
       "      <td>0.261457</td>\n",
       "    </tr>\n",
       "    <tr>\n",
       "      <th>c</th>\n",
       "      <td>0.144257</td>\n",
       "      <td>0.009705</td>\n",
       "      <td>0.676522</td>\n",
       "      <td>0.796271</td>\n",
       "      <td>0.469375</td>\n",
       "    </tr>\n",
       "    <tr>\n",
       "      <th>d</th>\n",
       "      <td>0.964115</td>\n",
       "      <td>0.213503</td>\n",
       "      <td>0.423912</td>\n",
       "      <td>0.338717</td>\n",
       "      <td>0.339276</td>\n",
       "    </tr>\n",
       "    <tr>\n",
       "      <th>e</th>\n",
       "      <td>0.324302</td>\n",
       "      <td>0.819255</td>\n",
       "      <td>0.480875</td>\n",
       "      <td>0.840662</td>\n",
       "      <td>0.681724</td>\n",
       "    </tr>\n",
       "    <tr>\n",
       "      <th>0</th>\n",
       "      <td>0.645995</td>\n",
       "      <td>0.430246</td>\n",
       "      <td>0.288021</td>\n",
       "      <td>0.747365</td>\n",
       "      <td>0.052736</td>\n",
       "    </tr>\n",
       "    <tr>\n",
       "      <th>1</th>\n",
       "      <td>0.975048</td>\n",
       "      <td>0.565058</td>\n",
       "      <td>0.864440</td>\n",
       "      <td>0.040936</td>\n",
       "      <td>0.666674</td>\n",
       "    </tr>\n",
       "    <tr>\n",
       "      <th>2</th>\n",
       "      <td>0.584044</td>\n",
       "      <td>0.290276</td>\n",
       "      <td>0.182525</td>\n",
       "      <td>0.712779</td>\n",
       "      <td>0.078593</td>\n",
       "    </tr>\n",
       "    <tr>\n",
       "      <th>3</th>\n",
       "      <td>0.340777</td>\n",
       "      <td>0.421373</td>\n",
       "      <td>0.203303</td>\n",
       "      <td>0.962690</td>\n",
       "      <td>0.826172</td>\n",
       "    </tr>\n",
       "    <tr>\n",
       "      <th>4</th>\n",
       "      <td>0.043055</td>\n",
       "      <td>0.562553</td>\n",
       "      <td>0.952717</td>\n",
       "      <td>0.687978</td>\n",
       "      <td>0.736723</td>\n",
       "    </tr>\n",
       "  </tbody>\n",
       "</table>\n",
       "</div>"
      ],
      "text/plain": [
       "          A         B         C         D        EE\n",
       "a  0.908312  0.189545  0.676451  0.380373  0.764490\n",
       "b  0.327726  0.715727  0.536767  0.405156  0.261457\n",
       "c  0.144257  0.009705  0.676522  0.796271  0.469375\n",
       "d  0.964115  0.213503  0.423912  0.338717  0.339276\n",
       "e  0.324302  0.819255  0.480875  0.840662  0.681724\n",
       "0  0.645995  0.430246  0.288021  0.747365  0.052736\n",
       "1  0.975048  0.565058  0.864440  0.040936  0.666674\n",
       "2  0.584044  0.290276  0.182525  0.712779  0.078593\n",
       "3  0.340777  0.421373  0.203303  0.962690  0.826172\n",
       "4  0.043055  0.562553  0.952717  0.687978  0.736723"
      ]
     },
     "execution_count": 30,
     "metadata": {},
     "output_type": "execute_result"
    }
   ],
   "source": [
    "df"
   ]
  },
  {
   "cell_type": "code",
   "execution_count": 32,
   "metadata": {},
   "outputs": [
    {
     "data": {
      "text/html": [
       "<div>\n",
       "<table border=\"1\" class=\"dataframe\">\n",
       "  <thead>\n",
       "    <tr style=\"text-align: right;\">\n",
       "      <th></th>\n",
       "      <th>A</th>\n",
       "      <th>C</th>\n",
       "    </tr>\n",
       "  </thead>\n",
       "  <tbody>\n",
       "    <tr>\n",
       "      <th>a</th>\n",
       "      <td>0.908312</td>\n",
       "      <td>0.676451</td>\n",
       "    </tr>\n",
       "    <tr>\n",
       "      <th>d</th>\n",
       "      <td>0.964115</td>\n",
       "      <td>0.423912</td>\n",
       "    </tr>\n",
       "    <tr>\n",
       "      <th>1</th>\n",
       "      <td>0.975048</td>\n",
       "      <td>0.864440</td>\n",
       "    </tr>\n",
       "  </tbody>\n",
       "</table>\n",
       "</div>"
      ],
      "text/plain": [
       "          A         C\n",
       "a  0.908312  0.676451\n",
       "d  0.964115  0.423912\n",
       "1  0.975048  0.864440"
      ]
     },
     "execution_count": 32,
     "metadata": {},
     "output_type": "execute_result"
    }
   ],
   "source": [
    "df.loc[['a', 'd', 1], ['A', 'C']]"
   ]
  },
  {
   "cell_type": "code",
   "execution_count": 31,
   "metadata": {},
   "outputs": [
    {
     "data": {
      "text/html": [
       "<div>\n",
       "<table border=\"1\" class=\"dataframe\">\n",
       "  <thead>\n",
       "    <tr style=\"text-align: right;\">\n",
       "      <th></th>\n",
       "      <th>A</th>\n",
       "      <th>C</th>\n",
       "    </tr>\n",
       "  </thead>\n",
       "  <tbody>\n",
       "    <tr>\n",
       "      <th>a</th>\n",
       "      <td>0.908312</td>\n",
       "      <td>0.676451</td>\n",
       "    </tr>\n",
       "    <tr>\n",
       "      <th>d</th>\n",
       "      <td>0.964115</td>\n",
       "      <td>0.423912</td>\n",
       "    </tr>\n",
       "    <tr>\n",
       "      <th>1</th>\n",
       "      <td>0.975048</td>\n",
       "      <td>0.864440</td>\n",
       "    </tr>\n",
       "  </tbody>\n",
       "</table>\n",
       "</div>"
      ],
      "text/plain": [
       "          A         C\n",
       "a  0.908312  0.676451\n",
       "d  0.964115  0.423912\n",
       "1  0.975048  0.864440"
      ]
     },
     "execution_count": 31,
     "metadata": {},
     "output_type": "execute_result"
    }
   ],
   "source": [
    "df.iloc[[0, 3, 6], [0, 2]]"
   ]
  },
  {
   "cell_type": "code",
   "execution_count": 34,
   "metadata": {},
   "outputs": [
    {
     "data": {
      "text/html": [
       "<div>\n",
       "<table border=\"1\" class=\"dataframe\">\n",
       "  <thead>\n",
       "    <tr style=\"text-align: right;\">\n",
       "      <th></th>\n",
       "      <th>A</th>\n",
       "      <th>B</th>\n",
       "      <th>C</th>\n",
       "      <th>D</th>\n",
       "      <th>EE</th>\n",
       "    </tr>\n",
       "  </thead>\n",
       "  <tbody>\n",
       "    <tr>\n",
       "      <th>a</th>\n",
       "      <td>0.908312</td>\n",
       "      <td>0.189545</td>\n",
       "      <td>0.676451</td>\n",
       "      <td>0.380373</td>\n",
       "      <td>0.764490</td>\n",
       "    </tr>\n",
       "    <tr>\n",
       "      <th>c</th>\n",
       "      <td>0.144257</td>\n",
       "      <td>0.009705</td>\n",
       "      <td>0.676522</td>\n",
       "      <td>0.796271</td>\n",
       "      <td>0.469375</td>\n",
       "    </tr>\n",
       "    <tr>\n",
       "      <th>e</th>\n",
       "      <td>0.324302</td>\n",
       "      <td>0.819255</td>\n",
       "      <td>0.480875</td>\n",
       "      <td>0.840662</td>\n",
       "      <td>0.681724</td>\n",
       "    </tr>\n",
       "    <tr>\n",
       "      <th>1</th>\n",
       "      <td>0.975048</td>\n",
       "      <td>0.565058</td>\n",
       "      <td>0.864440</td>\n",
       "      <td>0.040936</td>\n",
       "      <td>0.666674</td>\n",
       "    </tr>\n",
       "    <tr>\n",
       "      <th>3</th>\n",
       "      <td>0.340777</td>\n",
       "      <td>0.421373</td>\n",
       "      <td>0.203303</td>\n",
       "      <td>0.962690</td>\n",
       "      <td>0.826172</td>\n",
       "    </tr>\n",
       "  </tbody>\n",
       "</table>\n",
       "</div>"
      ],
      "text/plain": [
       "          A         B         C         D        EE\n",
       "a  0.908312  0.189545  0.676451  0.380373  0.764490\n",
       "c  0.144257  0.009705  0.676522  0.796271  0.469375\n",
       "e  0.324302  0.819255  0.480875  0.840662  0.681724\n",
       "1  0.975048  0.565058  0.864440  0.040936  0.666674\n",
       "3  0.340777  0.421373  0.203303  0.962690  0.826172"
      ]
     },
     "execution_count": 34,
     "metadata": {},
     "output_type": "execute_result"
    }
   ],
   "source": [
    "df[::2]"
   ]
  },
  {
   "cell_type": "code",
   "execution_count": 36,
   "metadata": {},
   "outputs": [
    {
     "data": {
      "text/html": [
       "<div>\n",
       "<table border=\"1\" class=\"dataframe\">\n",
       "  <thead>\n",
       "    <tr style=\"text-align: right;\">\n",
       "      <th></th>\n",
       "      <th>A</th>\n",
       "      <th>B</th>\n",
       "      <th>C</th>\n",
       "      <th>D</th>\n",
       "      <th>EE</th>\n",
       "    </tr>\n",
       "  </thead>\n",
       "  <tbody>\n",
       "    <tr>\n",
       "      <th>a</th>\n",
       "      <td>0.908312</td>\n",
       "      <td>0.189545</td>\n",
       "      <td>0.676451</td>\n",
       "      <td>0.380373</td>\n",
       "      <td>0.764490</td>\n",
       "    </tr>\n",
       "    <tr>\n",
       "      <th>b</th>\n",
       "      <td>0.327726</td>\n",
       "      <td>0.715727</td>\n",
       "      <td>0.536767</td>\n",
       "      <td>0.405156</td>\n",
       "      <td>0.261457</td>\n",
       "    </tr>\n",
       "    <tr>\n",
       "      <th>c</th>\n",
       "      <td>0.144257</td>\n",
       "      <td>0.009705</td>\n",
       "      <td>0.676522</td>\n",
       "      <td>0.796271</td>\n",
       "      <td>0.469375</td>\n",
       "    </tr>\n",
       "    <tr>\n",
       "      <th>d</th>\n",
       "      <td>0.964115</td>\n",
       "      <td>0.213503</td>\n",
       "      <td>0.423912</td>\n",
       "      <td>0.338717</td>\n",
       "      <td>0.339276</td>\n",
       "    </tr>\n",
       "    <tr>\n",
       "      <th>e</th>\n",
       "      <td>0.324302</td>\n",
       "      <td>0.819255</td>\n",
       "      <td>0.480875</td>\n",
       "      <td>0.840662</td>\n",
       "      <td>0.681724</td>\n",
       "    </tr>\n",
       "  </tbody>\n",
       "</table>\n",
       "</div>"
      ],
      "text/plain": [
       "          A         B         C         D        EE\n",
       "a  0.908312  0.189545  0.676451  0.380373  0.764490\n",
       "b  0.327726  0.715727  0.536767  0.405156  0.261457\n",
       "c  0.144257  0.009705  0.676522  0.796271  0.469375\n",
       "d  0.964115  0.213503  0.423912  0.338717  0.339276\n",
       "e  0.324302  0.819255  0.480875  0.840662  0.681724"
      ]
     },
     "execution_count": 36,
     "metadata": {},
     "output_type": "execute_result"
    }
   ],
   "source": [
    "df.head(5)\n",
    "df[:5]\n",
    "df.tail(5)\n",
    "df[-5:]"
   ]
  },
  {
   "cell_type": "code",
   "execution_count": 40,
   "metadata": {},
   "outputs": [
    {
     "data": {
      "text/html": [
       "<div>\n",
       "<table border=\"1\" class=\"dataframe\">\n",
       "  <thead>\n",
       "    <tr style=\"text-align: right;\">\n",
       "      <th></th>\n",
       "      <th>A</th>\n",
       "      <th>B</th>\n",
       "    </tr>\n",
       "  </thead>\n",
       "  <tbody>\n",
       "    <tr>\n",
       "      <th>a</th>\n",
       "      <td>0.908312</td>\n",
       "      <td>0.189545</td>\n",
       "    </tr>\n",
       "    <tr>\n",
       "      <th>b</th>\n",
       "      <td>0.327726</td>\n",
       "      <td>0.715727</td>\n",
       "    </tr>\n",
       "    <tr>\n",
       "      <th>c</th>\n",
       "      <td>0.144257</td>\n",
       "      <td>0.009705</td>\n",
       "    </tr>\n",
       "    <tr>\n",
       "      <th>d</th>\n",
       "      <td>0.964115</td>\n",
       "      <td>0.213503</td>\n",
       "    </tr>\n",
       "    <tr>\n",
       "      <th>e</th>\n",
       "      <td>0.324302</td>\n",
       "      <td>0.819255</td>\n",
       "    </tr>\n",
       "    <tr>\n",
       "      <th>0</th>\n",
       "      <td>0.645995</td>\n",
       "      <td>0.430246</td>\n",
       "    </tr>\n",
       "    <tr>\n",
       "      <th>1</th>\n",
       "      <td>0.975048</td>\n",
       "      <td>0.565058</td>\n",
       "    </tr>\n",
       "    <tr>\n",
       "      <th>2</th>\n",
       "      <td>0.584044</td>\n",
       "      <td>0.290276</td>\n",
       "    </tr>\n",
       "    <tr>\n",
       "      <th>3</th>\n",
       "      <td>0.340777</td>\n",
       "      <td>0.421373</td>\n",
       "    </tr>\n",
       "    <tr>\n",
       "      <th>4</th>\n",
       "      <td>0.043055</td>\n",
       "      <td>0.562553</td>\n",
       "    </tr>\n",
       "  </tbody>\n",
       "</table>\n",
       "</div>"
      ],
      "text/plain": [
       "          A         B\n",
       "a  0.908312  0.189545\n",
       "b  0.327726  0.715727\n",
       "c  0.144257  0.009705\n",
       "d  0.964115  0.213503\n",
       "e  0.324302  0.819255\n",
       "0  0.645995  0.430246\n",
       "1  0.975048  0.565058\n",
       "2  0.584044  0.290276\n",
       "3  0.340777  0.421373\n",
       "4  0.043055  0.562553"
      ]
     },
     "execution_count": 40,
     "metadata": {},
     "output_type": "execute_result"
    }
   ],
   "source": [
    "df.A\n",
    "df[['A', 'B']]"
   ]
  },
  {
   "cell_type": "code",
   "execution_count": 49,
   "metadata": {},
   "outputs": [
    {
     "data": {
      "text/html": [
       "<div>\n",
       "<table border=\"1\" class=\"dataframe\">\n",
       "  <thead>\n",
       "    <tr style=\"text-align: right;\">\n",
       "      <th></th>\n",
       "      <th>A</th>\n",
       "      <th>B</th>\n",
       "      <th>C</th>\n",
       "      <th>D</th>\n",
       "      <th>EE</th>\n",
       "    </tr>\n",
       "  </thead>\n",
       "  <tbody>\n",
       "    <tr>\n",
       "      <th>a</th>\n",
       "      <td>0.908312</td>\n",
       "      <td>0.189545</td>\n",
       "      <td>0.676451</td>\n",
       "      <td>0.380373</td>\n",
       "      <td>0.764490</td>\n",
       "    </tr>\n",
       "    <tr>\n",
       "      <th>b</th>\n",
       "      <td>0.327726</td>\n",
       "      <td>0.715727</td>\n",
       "      <td>0.536767</td>\n",
       "      <td>0.405156</td>\n",
       "      <td>0.261457</td>\n",
       "    </tr>\n",
       "    <tr>\n",
       "      <th>c</th>\n",
       "      <td>0.144257</td>\n",
       "      <td>0.009705</td>\n",
       "      <td>0.676522</td>\n",
       "      <td>0.796271</td>\n",
       "      <td>0.469375</td>\n",
       "    </tr>\n",
       "    <tr>\n",
       "      <th>d</th>\n",
       "      <td>0.964115</td>\n",
       "      <td>0.213503</td>\n",
       "      <td>0.423912</td>\n",
       "      <td>0.338717</td>\n",
       "      <td>0.339276</td>\n",
       "    </tr>\n",
       "    <tr>\n",
       "      <th>e</th>\n",
       "      <td>0.324302</td>\n",
       "      <td>0.819255</td>\n",
       "      <td>0.480875</td>\n",
       "      <td>0.840662</td>\n",
       "      <td>0.681724</td>\n",
       "    </tr>\n",
       "    <tr>\n",
       "      <th>0</th>\n",
       "      <td>0.645995</td>\n",
       "      <td>0.430246</td>\n",
       "      <td>0.288021</td>\n",
       "      <td>0.747365</td>\n",
       "      <td>0.052736</td>\n",
       "    </tr>\n",
       "    <tr>\n",
       "      <th>1</th>\n",
       "      <td>0.975048</td>\n",
       "      <td>0.565058</td>\n",
       "      <td>0.864440</td>\n",
       "      <td>0.040936</td>\n",
       "      <td>0.666674</td>\n",
       "    </tr>\n",
       "    <tr>\n",
       "      <th>2</th>\n",
       "      <td>0.584044</td>\n",
       "      <td>0.290276</td>\n",
       "      <td>0.182525</td>\n",
       "      <td>0.712779</td>\n",
       "      <td>0.078593</td>\n",
       "    </tr>\n",
       "    <tr>\n",
       "      <th>3</th>\n",
       "      <td>0.340777</td>\n",
       "      <td>0.421373</td>\n",
       "      <td>0.203303</td>\n",
       "      <td>0.962690</td>\n",
       "      <td>0.826172</td>\n",
       "    </tr>\n",
       "    <tr>\n",
       "      <th>4</th>\n",
       "      <td>0.043055</td>\n",
       "      <td>0.562553</td>\n",
       "      <td>0.952717</td>\n",
       "      <td>0.687978</td>\n",
       "      <td>0.736723</td>\n",
       "    </tr>\n",
       "  </tbody>\n",
       "</table>\n",
       "</div>"
      ],
      "text/plain": [
       "          A         B         C         D        EE\n",
       "a  0.908312  0.189545  0.676451  0.380373  0.764490\n",
       "b  0.327726  0.715727  0.536767  0.405156  0.261457\n",
       "c  0.144257  0.009705  0.676522  0.796271  0.469375\n",
       "d  0.964115  0.213503  0.423912  0.338717  0.339276\n",
       "e  0.324302  0.819255  0.480875  0.840662  0.681724\n",
       "0  0.645995  0.430246  0.288021  0.747365  0.052736\n",
       "1  0.975048  0.565058  0.864440  0.040936  0.666674\n",
       "2  0.584044  0.290276  0.182525  0.712779  0.078593\n",
       "3  0.340777  0.421373  0.203303  0.962690  0.826172\n",
       "4  0.043055  0.562553  0.952717  0.687978  0.736723"
      ]
     },
     "execution_count": 49,
     "metadata": {},
     "output_type": "execute_result"
    }
   ],
   "source": [
    "df"
   ]
  },
  {
   "cell_type": "code",
   "execution_count": 53,
   "metadata": {},
   "outputs": [
    {
     "data": {
      "text/html": [
       "<div>\n",
       "<table border=\"1\" class=\"dataframe\">\n",
       "  <thead>\n",
       "    <tr style=\"text-align: right;\">\n",
       "      <th></th>\n",
       "      <th>A</th>\n",
       "      <th>B</th>\n",
       "      <th>C</th>\n",
       "      <th>D</th>\n",
       "      <th>EE</th>\n",
       "    </tr>\n",
       "  </thead>\n",
       "  <tbody>\n",
       "    <tr>\n",
       "      <th>b</th>\n",
       "      <td>0.327726</td>\n",
       "      <td>0.715727</td>\n",
       "      <td>0.536767</td>\n",
       "      <td>0.405156</td>\n",
       "      <td>0.261457</td>\n",
       "    </tr>\n",
       "    <tr>\n",
       "      <th>c</th>\n",
       "      <td>0.144257</td>\n",
       "      <td>0.009705</td>\n",
       "      <td>0.676522</td>\n",
       "      <td>0.796271</td>\n",
       "      <td>0.469375</td>\n",
       "    </tr>\n",
       "    <tr>\n",
       "      <th>e</th>\n",
       "      <td>0.324302</td>\n",
       "      <td>0.819255</td>\n",
       "      <td>0.480875</td>\n",
       "      <td>0.840662</td>\n",
       "      <td>0.681724</td>\n",
       "    </tr>\n",
       "    <tr>\n",
       "      <th>3</th>\n",
       "      <td>0.340777</td>\n",
       "      <td>0.421373</td>\n",
       "      <td>0.203303</td>\n",
       "      <td>0.962690</td>\n",
       "      <td>0.826172</td>\n",
       "    </tr>\n",
       "    <tr>\n",
       "      <th>4</th>\n",
       "      <td>0.043055</td>\n",
       "      <td>0.562553</td>\n",
       "      <td>0.952717</td>\n",
       "      <td>0.687978</td>\n",
       "      <td>0.736723</td>\n",
       "    </tr>\n",
       "  </tbody>\n",
       "</table>\n",
       "</div>"
      ],
      "text/plain": [
       "          A         B         C         D        EE\n",
       "b  0.327726  0.715727  0.536767  0.405156  0.261457\n",
       "c  0.144257  0.009705  0.676522  0.796271  0.469375\n",
       "e  0.324302  0.819255  0.480875  0.840662  0.681724\n",
       "3  0.340777  0.421373  0.203303  0.962690  0.826172\n",
       "4  0.043055  0.562553  0.952717  0.687978  0.736723"
      ]
     },
     "execution_count": 53,
     "metadata": {},
     "output_type": "execute_result"
    }
   ],
   "source": [
    "df.loc[df['A'] < 0.5]"
   ]
  },
  {
   "cell_type": "code",
   "execution_count": 47,
   "metadata": {},
   "outputs": [
    {
     "data": {
      "text/html": [
       "<div>\n",
       "<table border=\"1\" class=\"dataframe\">\n",
       "  <thead>\n",
       "    <tr style=\"text-align: right;\">\n",
       "      <th></th>\n",
       "      <th>A</th>\n",
       "      <th>B</th>\n",
       "      <th>C</th>\n",
       "      <th>D</th>\n",
       "      <th>EE</th>\n",
       "    </tr>\n",
       "  </thead>\n",
       "  <tbody>\n",
       "    <tr>\n",
       "      <th>b</th>\n",
       "      <td>0.327726</td>\n",
       "      <td>0.715727</td>\n",
       "      <td>0.536767</td>\n",
       "      <td>0.405156</td>\n",
       "      <td>0.261457</td>\n",
       "    </tr>\n",
       "    <tr>\n",
       "      <th>e</th>\n",
       "      <td>0.324302</td>\n",
       "      <td>0.819255</td>\n",
       "      <td>0.480875</td>\n",
       "      <td>0.840662</td>\n",
       "      <td>0.681724</td>\n",
       "    </tr>\n",
       "    <tr>\n",
       "      <th>4</th>\n",
       "      <td>0.043055</td>\n",
       "      <td>0.562553</td>\n",
       "      <td>0.952717</td>\n",
       "      <td>0.687978</td>\n",
       "      <td>0.736723</td>\n",
       "    </tr>\n",
       "  </tbody>\n",
       "</table>\n",
       "</div>"
      ],
      "text/plain": [
       "          A         B         C         D        EE\n",
       "b  0.327726  0.715727  0.536767  0.405156  0.261457\n",
       "e  0.324302  0.819255  0.480875  0.840662  0.681724\n",
       "4  0.043055  0.562553  0.952717  0.687978  0.736723"
      ]
     },
     "execution_count": 47,
     "metadata": {},
     "output_type": "execute_result"
    }
   ],
   "source": [
    "df.loc[(df['A'] < 0.5) & (df['B'] > 0.5)]"
   ]
  },
  {
   "cell_type": "code",
   "execution_count": 57,
   "metadata": {},
   "outputs": [],
   "source": [
    "df['F'] = np.random.randint(low=0, high=3, size=df.shape[0])"
   ]
  },
  {
   "cell_type": "code",
   "execution_count": 63,
   "metadata": {},
   "outputs": [
    {
     "data": {
      "text/html": [
       "<div>\n",
       "<table border=\"1\" class=\"dataframe\">\n",
       "  <thead>\n",
       "    <tr style=\"text-align: right;\">\n",
       "      <th></th>\n",
       "      <th>A</th>\n",
       "      <th>B</th>\n",
       "      <th>C</th>\n",
       "      <th>D</th>\n",
       "      <th>EE</th>\n",
       "    </tr>\n",
       "    <tr>\n",
       "      <th>F</th>\n",
       "      <th></th>\n",
       "      <th></th>\n",
       "      <th></th>\n",
       "      <th></th>\n",
       "      <th></th>\n",
       "    </tr>\n",
       "  </thead>\n",
       "  <tbody>\n",
       "    <tr>\n",
       "      <th>0</th>\n",
       "      <td>1.783056</td>\n",
       "      <td>2.396306</td>\n",
       "      <td>2.185486</td>\n",
       "      <td>3.752144</td>\n",
       "      <td>2.291465</td>\n",
       "    </tr>\n",
       "    <tr>\n",
       "      <th>1</th>\n",
       "      <td>0.627098</td>\n",
       "      <td>0.852829</td>\n",
       "      <td>1.135242</td>\n",
       "      <td>1.400757</td>\n",
       "      <td>0.815315</td>\n",
       "    </tr>\n",
       "    <tr>\n",
       "      <th>2</th>\n",
       "      <td>2.847476</td>\n",
       "      <td>0.968106</td>\n",
       "      <td>1.964803</td>\n",
       "      <td>0.760026</td>\n",
       "      <td>1.770440</td>\n",
       "    </tr>\n",
       "  </tbody>\n",
       "</table>\n",
       "</div>"
      ],
      "text/plain": [
       "          A         B         C         D        EE\n",
       "F                                                  \n",
       "0  1.783056  2.396306  2.185486  3.752144  2.291465\n",
       "1  0.627098  0.852829  1.135242  1.400757  0.815315\n",
       "2  2.847476  0.968106  1.964803  0.760026  1.770440"
      ]
     },
     "execution_count": 63,
     "metadata": {},
     "output_type": "execute_result"
    }
   ],
   "source": [
    "df.groupby(['F']).aggregate(np.sum)"
   ]
  },
  {
   "cell_type": "code",
   "execution_count": 67,
   "metadata": {},
   "outputs": [
    {
     "data": {
      "text/plain": [
       "2.84747563571839"
      ]
     },
     "execution_count": 67,
     "metadata": {},
     "output_type": "execute_result"
    }
   ],
   "source": [
    "float(df.loc[df['F'] == 2, ['A']].sum())"
   ]
  },
  {
   "cell_type": "code",
   "execution_count": 68,
   "metadata": {},
   "outputs": [
    {
     "data": {
      "text/html": [
       "<div>\n",
       "<table border=\"1\" class=\"dataframe\">\n",
       "  <thead>\n",
       "    <tr style=\"text-align: right;\">\n",
       "      <th></th>\n",
       "      <th>A</th>\n",
       "      <th>B</th>\n",
       "      <th>C</th>\n",
       "      <th>D</th>\n",
       "      <th>EE</th>\n",
       "    </tr>\n",
       "    <tr>\n",
       "      <th>F</th>\n",
       "      <th></th>\n",
       "      <th></th>\n",
       "      <th></th>\n",
       "      <th></th>\n",
       "      <th></th>\n",
       "    </tr>\n",
       "  </thead>\n",
       "  <tbody>\n",
       "    <tr>\n",
       "      <th>0</th>\n",
       "      <td>0.645995</td>\n",
       "      <td>0.819255</td>\n",
       "      <td>0.676522</td>\n",
       "      <td>0.962690</td>\n",
       "      <td>0.826172</td>\n",
       "    </tr>\n",
       "    <tr>\n",
       "      <th>1</th>\n",
       "      <td>0.584044</td>\n",
       "      <td>0.562553</td>\n",
       "      <td>0.952717</td>\n",
       "      <td>0.712779</td>\n",
       "      <td>0.736723</td>\n",
       "    </tr>\n",
       "    <tr>\n",
       "      <th>2</th>\n",
       "      <td>0.975048</td>\n",
       "      <td>0.565058</td>\n",
       "      <td>0.864440</td>\n",
       "      <td>0.380373</td>\n",
       "      <td>0.764490</td>\n",
       "    </tr>\n",
       "  </tbody>\n",
       "</table>\n",
       "</div>"
      ],
      "text/plain": [
       "          A         B         C         D        EE\n",
       "F                                                  \n",
       "0  0.645995  0.819255  0.676522  0.962690  0.826172\n",
       "1  0.584044  0.562553  0.952717  0.712779  0.736723\n",
       "2  0.975048  0.565058  0.864440  0.380373  0.764490"
      ]
     },
     "execution_count": 68,
     "metadata": {},
     "output_type": "execute_result"
    }
   ],
   "source": [
    "df.groupby(['F']).aggregate(np.max)"
   ]
  },
  {
   "cell_type": "code",
   "execution_count": 70,
   "metadata": {},
   "outputs": [
    {
     "data": {
      "text/html": [
       "<div>\n",
       "<table border=\"1\" class=\"dataframe\">\n",
       "  <thead>\n",
       "    <tr style=\"text-align: right;\">\n",
       "      <th></th>\n",
       "      <th>A</th>\n",
       "      <th>B</th>\n",
       "      <th>C</th>\n",
       "      <th>D</th>\n",
       "      <th>EE</th>\n",
       "    </tr>\n",
       "    <tr>\n",
       "      <th>F</th>\n",
       "      <th></th>\n",
       "      <th></th>\n",
       "      <th></th>\n",
       "      <th></th>\n",
       "      <th></th>\n",
       "    </tr>\n",
       "  </thead>\n",
       "  <tbody>\n",
       "    <tr>\n",
       "      <th>0</th>\n",
       "      <td>0.645995</td>\n",
       "      <td>0.819255</td>\n",
       "      <td>0.676522</td>\n",
       "      <td>0.962690</td>\n",
       "      <td>0.826172</td>\n",
       "    </tr>\n",
       "    <tr>\n",
       "      <th>1</th>\n",
       "      <td>0.584044</td>\n",
       "      <td>0.562553</td>\n",
       "      <td>0.952717</td>\n",
       "      <td>0.712779</td>\n",
       "      <td>0.736723</td>\n",
       "    </tr>\n",
       "    <tr>\n",
       "      <th>2</th>\n",
       "      <td>0.975048</td>\n",
       "      <td>0.565058</td>\n",
       "      <td>0.864440</td>\n",
       "      <td>0.380373</td>\n",
       "      <td>0.764490</td>\n",
       "    </tr>\n",
       "  </tbody>\n",
       "</table>\n",
       "</div>"
      ],
      "text/plain": [
       "          A         B         C         D        EE\n",
       "F                                                  \n",
       "0  0.645995  0.819255  0.676522  0.962690  0.826172\n",
       "1  0.584044  0.562553  0.952717  0.712779  0.736723\n",
       "2  0.975048  0.565058  0.864440  0.380373  0.764490"
      ]
     },
     "execution_count": 70,
     "metadata": {},
     "output_type": "execute_result"
    }
   ],
   "source": [
    "df.groupby(['F']).max()"
   ]
  },
  {
   "cell_type": "code",
   "execution_count": 72,
   "metadata": {},
   "outputs": [
    {
     "data": {
      "text/html": [
       "<div>\n",
       "<table border=\"1\" class=\"dataframe\">\n",
       "  <thead>\n",
       "    <tr style=\"text-align: right;\">\n",
       "      <th></th>\n",
       "      <th>A</th>\n",
       "      <th>B</th>\n",
       "      <th>C</th>\n",
       "      <th>D</th>\n",
       "      <th>EE</th>\n",
       "      <th>F</th>\n",
       "    </tr>\n",
       "  </thead>\n",
       "  <tbody>\n",
       "    <tr>\n",
       "      <th>a</th>\n",
       "      <td>0.908312</td>\n",
       "      <td>0.189545</td>\n",
       "      <td>0.676451</td>\n",
       "      <td>0.380373</td>\n",
       "      <td>0.764490</td>\n",
       "      <td>2</td>\n",
       "    </tr>\n",
       "    <tr>\n",
       "      <th>d</th>\n",
       "      <td>0.964115</td>\n",
       "      <td>0.213503</td>\n",
       "      <td>0.423912</td>\n",
       "      <td>0.338717</td>\n",
       "      <td>0.339276</td>\n",
       "      <td>2</td>\n",
       "    </tr>\n",
       "    <tr>\n",
       "      <th>1</th>\n",
       "      <td>0.975048</td>\n",
       "      <td>0.565058</td>\n",
       "      <td>0.864440</td>\n",
       "      <td>0.040936</td>\n",
       "      <td>0.666674</td>\n",
       "      <td>2</td>\n",
       "    </tr>\n",
       "  </tbody>\n",
       "</table>\n",
       "</div>"
      ],
      "text/plain": [
       "          A         B         C         D        EE  F\n",
       "a  0.908312  0.189545  0.676451  0.380373  0.764490  2\n",
       "d  0.964115  0.213503  0.423912  0.338717  0.339276  2\n",
       "1  0.975048  0.565058  0.864440  0.040936  0.666674  2"
      ]
     },
     "execution_count": 72,
     "metadata": {},
     "output_type": "execute_result"
    }
   ],
   "source": [
    "df.loc[df['F'] == 2]"
   ]
  },
  {
   "cell_type": "code",
   "execution_count": 74,
   "metadata": {},
   "outputs": [
    {
     "data": {
      "text/html": [
       "<div>\n",
       "<table border=\"1\" class=\"dataframe\">\n",
       "  <thead>\n",
       "    <tr style=\"text-align: right;\">\n",
       "      <th></th>\n",
       "      <th>A</th>\n",
       "      <th>B</th>\n",
       "      <th>C</th>\n",
       "      <th>D</th>\n",
       "      <th>EE</th>\n",
       "    </tr>\n",
       "  </thead>\n",
       "  <tbody>\n",
       "    <tr>\n",
       "      <th>a</th>\n",
       "      <td>-0.040846</td>\n",
       "      <td>-0.133157</td>\n",
       "      <td>0.021517</td>\n",
       "      <td>0.127031</td>\n",
       "      <td>0.174344</td>\n",
       "    </tr>\n",
       "    <tr>\n",
       "      <th>b</th>\n",
       "      <td>-0.028885</td>\n",
       "      <td>0.236466</td>\n",
       "      <td>0.099669</td>\n",
       "      <td>-0.345273</td>\n",
       "      <td>-0.196836</td>\n",
       "    </tr>\n",
       "    <tr>\n",
       "      <th>c</th>\n",
       "      <td>-0.212354</td>\n",
       "      <td>-0.469556</td>\n",
       "      <td>0.239424</td>\n",
       "      <td>0.045842</td>\n",
       "      <td>0.011082</td>\n",
       "    </tr>\n",
       "    <tr>\n",
       "      <th>d</th>\n",
       "      <td>0.014957</td>\n",
       "      <td>-0.109199</td>\n",
       "      <td>-0.231022</td>\n",
       "      <td>0.085375</td>\n",
       "      <td>-0.250871</td>\n",
       "    </tr>\n",
       "    <tr>\n",
       "      <th>e</th>\n",
       "      <td>-0.032310</td>\n",
       "      <td>0.339994</td>\n",
       "      <td>0.043777</td>\n",
       "      <td>0.090234</td>\n",
       "      <td>0.223431</td>\n",
       "    </tr>\n",
       "    <tr>\n",
       "      <th>0</th>\n",
       "      <td>0.289383</td>\n",
       "      <td>-0.049016</td>\n",
       "      <td>-0.149076</td>\n",
       "      <td>-0.003064</td>\n",
       "      <td>-0.405557</td>\n",
       "    </tr>\n",
       "    <tr>\n",
       "      <th>1</th>\n",
       "      <td>0.025890</td>\n",
       "      <td>0.242356</td>\n",
       "      <td>0.209506</td>\n",
       "      <td>-0.212406</td>\n",
       "      <td>0.076527</td>\n",
       "    </tr>\n",
       "    <tr>\n",
       "      <th>2</th>\n",
       "      <td>0.270495</td>\n",
       "      <td>-0.136138</td>\n",
       "      <td>-0.385096</td>\n",
       "      <td>0.012400</td>\n",
       "      <td>-0.329065</td>\n",
       "    </tr>\n",
       "    <tr>\n",
       "      <th>3</th>\n",
       "      <td>-0.015835</td>\n",
       "      <td>-0.057888</td>\n",
       "      <td>-0.233795</td>\n",
       "      <td>0.212261</td>\n",
       "      <td>0.367879</td>\n",
       "    </tr>\n",
       "    <tr>\n",
       "      <th>4</th>\n",
       "      <td>-0.270495</td>\n",
       "      <td>0.136138</td>\n",
       "      <td>0.385096</td>\n",
       "      <td>-0.012400</td>\n",
       "      <td>0.329065</td>\n",
       "    </tr>\n",
       "  </tbody>\n",
       "</table>\n",
       "</div>"
      ],
      "text/plain": [
       "          A         B         C         D        EE\n",
       "a -0.040846 -0.133157  0.021517  0.127031  0.174344\n",
       "b -0.028885  0.236466  0.099669 -0.345273 -0.196836\n",
       "c -0.212354 -0.469556  0.239424  0.045842  0.011082\n",
       "d  0.014957 -0.109199 -0.231022  0.085375 -0.250871\n",
       "e -0.032310  0.339994  0.043777  0.090234  0.223431\n",
       "0  0.289383 -0.049016 -0.149076 -0.003064 -0.405557\n",
       "1  0.025890  0.242356  0.209506 -0.212406  0.076527\n",
       "2  0.270495 -0.136138 -0.385096  0.012400 -0.329065\n",
       "3 -0.015835 -0.057888 -0.233795  0.212261  0.367879\n",
       "4 -0.270495  0.136138  0.385096 -0.012400  0.329065"
      ]
     },
     "execution_count": 74,
     "metadata": {},
     "output_type": "execute_result"
    }
   ],
   "source": [
    "df.groupby(['F']).transform(lambda x: x - x.mean())"
   ]
  },
  {
   "cell_type": "code",
   "execution_count": 86,
   "metadata": {},
   "outputs": [
    {
     "data": {
      "text/html": [
       "<div>\n",
       "<table border=\"1\" class=\"dataframe\">\n",
       "  <thead>\n",
       "    <tr style=\"text-align: right;\">\n",
       "      <th></th>\n",
       "      <th>A</th>\n",
       "      <th>B</th>\n",
       "      <th>C</th>\n",
       "      <th>D</th>\n",
       "      <th>EE</th>\n",
       "      <th>F</th>\n",
       "    </tr>\n",
       "  </thead>\n",
       "  <tbody>\n",
       "    <tr>\n",
       "      <th>a</th>\n",
       "      <td>0.908312</td>\n",
       "      <td>0.189545</td>\n",
       "      <td>0.676451</td>\n",
       "      <td>0.380373</td>\n",
       "      <td>0.764490</td>\n",
       "      <td>2</td>\n",
       "    </tr>\n",
       "    <tr>\n",
       "      <th>b</th>\n",
       "      <td>0.327726</td>\n",
       "      <td>0.715727</td>\n",
       "      <td>0.536767</td>\n",
       "      <td>0.405156</td>\n",
       "      <td>0.261457</td>\n",
       "      <td>0</td>\n",
       "    </tr>\n",
       "    <tr>\n",
       "      <th>c</th>\n",
       "      <td>0.144257</td>\n",
       "      <td>0.009705</td>\n",
       "      <td>0.676522</td>\n",
       "      <td>0.796271</td>\n",
       "      <td>0.469375</td>\n",
       "      <td>0</td>\n",
       "    </tr>\n",
       "    <tr>\n",
       "      <th>d</th>\n",
       "      <td>0.964115</td>\n",
       "      <td>0.213503</td>\n",
       "      <td>0.423912</td>\n",
       "      <td>0.338717</td>\n",
       "      <td>0.339276</td>\n",
       "      <td>2</td>\n",
       "    </tr>\n",
       "    <tr>\n",
       "      <th>e</th>\n",
       "      <td>0.324302</td>\n",
       "      <td>0.819255</td>\n",
       "      <td>0.480875</td>\n",
       "      <td>0.840662</td>\n",
       "      <td>0.681724</td>\n",
       "      <td>0</td>\n",
       "    </tr>\n",
       "    <tr>\n",
       "      <th>0</th>\n",
       "      <td>0.645995</td>\n",
       "      <td>0.430246</td>\n",
       "      <td>0.288021</td>\n",
       "      <td>0.747365</td>\n",
       "      <td>0.052736</td>\n",
       "      <td>0</td>\n",
       "    </tr>\n",
       "    <tr>\n",
       "      <th>1</th>\n",
       "      <td>0.975048</td>\n",
       "      <td>0.565058</td>\n",
       "      <td>0.864440</td>\n",
       "      <td>0.040936</td>\n",
       "      <td>0.666674</td>\n",
       "      <td>2</td>\n",
       "    </tr>\n",
       "    <tr>\n",
       "      <th>2</th>\n",
       "      <td>0.584044</td>\n",
       "      <td>0.290276</td>\n",
       "      <td>0.182525</td>\n",
       "      <td>0.712779</td>\n",
       "      <td>0.078593</td>\n",
       "      <td>1</td>\n",
       "    </tr>\n",
       "    <tr>\n",
       "      <th>3</th>\n",
       "      <td>0.340777</td>\n",
       "      <td>0.421373</td>\n",
       "      <td>0.203303</td>\n",
       "      <td>0.962690</td>\n",
       "      <td>0.826172</td>\n",
       "      <td>0</td>\n",
       "    </tr>\n",
       "    <tr>\n",
       "      <th>4</th>\n",
       "      <td>0.043055</td>\n",
       "      <td>0.562553</td>\n",
       "      <td>0.952717</td>\n",
       "      <td>0.687978</td>\n",
       "      <td>0.736723</td>\n",
       "      <td>1</td>\n",
       "    </tr>\n",
       "  </tbody>\n",
       "</table>\n",
       "</div>"
      ],
      "text/plain": [
       "          A         B         C         D        EE  F\n",
       "a  0.908312  0.189545  0.676451  0.380373  0.764490  2\n",
       "b  0.327726  0.715727  0.536767  0.405156  0.261457  0\n",
       "c  0.144257  0.009705  0.676522  0.796271  0.469375  0\n",
       "d  0.964115  0.213503  0.423912  0.338717  0.339276  2\n",
       "e  0.324302  0.819255  0.480875  0.840662  0.681724  0\n",
       "0  0.645995  0.430246  0.288021  0.747365  0.052736  0\n",
       "1  0.975048  0.565058  0.864440  0.040936  0.666674  2\n",
       "2  0.584044  0.290276  0.182525  0.712779  0.078593  1\n",
       "3  0.340777  0.421373  0.203303  0.962690  0.826172  0\n",
       "4  0.043055  0.562553  0.952717  0.687978  0.736723  1"
      ]
     },
     "execution_count": 86,
     "metadata": {},
     "output_type": "execute_result"
    }
   ],
   "source": [
    "df"
   ]
  },
  {
   "cell_type": "code",
   "execution_count": 88,
   "metadata": {},
   "outputs": [
    {
     "data": {
      "text/html": [
       "<div>\n",
       "<table border=\"1\" class=\"dataframe\">\n",
       "  <thead>\n",
       "    <tr style=\"text-align: right;\">\n",
       "      <th></th>\n",
       "      <th>A</th>\n",
       "      <th>B</th>\n",
       "      <th>C</th>\n",
       "      <th>D</th>\n",
       "      <th>EE</th>\n",
       "      <th>F</th>\n",
       "    </tr>\n",
       "  </thead>\n",
       "  <tbody>\n",
       "    <tr>\n",
       "      <th>a</th>\n",
       "      <td>0.908312</td>\n",
       "      <td>0.189545</td>\n",
       "      <td>0.676451</td>\n",
       "      <td>0.380373</td>\n",
       "      <td>0.764490</td>\n",
       "      <td>2</td>\n",
       "    </tr>\n",
       "    <tr>\n",
       "      <th>b</th>\n",
       "      <td>0.327726</td>\n",
       "      <td>0.715727</td>\n",
       "      <td>0.536767</td>\n",
       "      <td>0.405156</td>\n",
       "      <td>0.261457</td>\n",
       "      <td>0</td>\n",
       "    </tr>\n",
       "    <tr>\n",
       "      <th>c</th>\n",
       "      <td>0.144257</td>\n",
       "      <td>0.009705</td>\n",
       "      <td>0.676522</td>\n",
       "      <td>0.796271</td>\n",
       "      <td>0.469375</td>\n",
       "      <td>0</td>\n",
       "    </tr>\n",
       "    <tr>\n",
       "      <th>d</th>\n",
       "      <td>0.964115</td>\n",
       "      <td>0.213503</td>\n",
       "      <td>0.423912</td>\n",
       "      <td>0.338717</td>\n",
       "      <td>0.339276</td>\n",
       "      <td>2</td>\n",
       "    </tr>\n",
       "    <tr>\n",
       "      <th>e</th>\n",
       "      <td>0.324302</td>\n",
       "      <td>0.819255</td>\n",
       "      <td>0.480875</td>\n",
       "      <td>0.840662</td>\n",
       "      <td>0.681724</td>\n",
       "      <td>0</td>\n",
       "    </tr>\n",
       "    <tr>\n",
       "      <th>0</th>\n",
       "      <td>0.645995</td>\n",
       "      <td>0.430246</td>\n",
       "      <td>0.288021</td>\n",
       "      <td>0.747365</td>\n",
       "      <td>0.052736</td>\n",
       "      <td>0</td>\n",
       "    </tr>\n",
       "    <tr>\n",
       "      <th>1</th>\n",
       "      <td>0.975048</td>\n",
       "      <td>0.565058</td>\n",
       "      <td>0.864440</td>\n",
       "      <td>0.040936</td>\n",
       "      <td>0.666674</td>\n",
       "      <td>2</td>\n",
       "    </tr>\n",
       "    <tr>\n",
       "      <th>3</th>\n",
       "      <td>0.340777</td>\n",
       "      <td>0.421373</td>\n",
       "      <td>0.203303</td>\n",
       "      <td>0.962690</td>\n",
       "      <td>0.826172</td>\n",
       "      <td>0</td>\n",
       "    </tr>\n",
       "  </tbody>\n",
       "</table>\n",
       "</div>"
      ],
      "text/plain": [
       "          A         B         C         D        EE  F\n",
       "a  0.908312  0.189545  0.676451  0.380373  0.764490  2\n",
       "b  0.327726  0.715727  0.536767  0.405156  0.261457  0\n",
       "c  0.144257  0.009705  0.676522  0.796271  0.469375  0\n",
       "d  0.964115  0.213503  0.423912  0.338717  0.339276  2\n",
       "e  0.324302  0.819255  0.480875  0.840662  0.681724  0\n",
       "0  0.645995  0.430246  0.288021  0.747365  0.052736  0\n",
       "1  0.975048  0.565058  0.864440  0.040936  0.666674  2\n",
       "3  0.340777  0.421373  0.203303  0.962690  0.826172  0"
      ]
     },
     "execution_count": 88,
     "metadata": {},
     "output_type": "execute_result"
    }
   ],
   "source": [
    "df.groupby(['F']).filter(lambda x: x.shape[0] >= 3)"
   ]
  },
  {
   "cell_type": "code",
   "execution_count": null,
   "metadata": {
    "collapsed": true
   },
   "outputs": [],
   "source": [
    "df.groupby(['p']).filter(lambda x: x.shape[0] < 10)"
   ]
  },
  {
   "cell_type": "code",
   "execution_count": 90,
   "metadata": {
    "collapsed": true
   },
   "outputs": [],
   "source": [
    "link = 'https://raw.githubusercontent.com/iad34/seminars/master/materials/data_sem1.csv'"
   ]
  },
  {
   "cell_type": "code",
   "execution_count": 92,
   "metadata": {},
   "outputs": [],
   "source": [
    "df = pd.read_csv(link, sep=';')"
   ]
  },
  {
   "cell_type": "code",
   "execution_count": 104,
   "metadata": {},
   "outputs": [
    {
     "data": {
      "text/plain": [
       "549"
      ]
     },
     "execution_count": 104,
     "metadata": {},
     "output_type": "execute_result"
    }
   ],
   "source": [
    "df.loc[df.Survived == 0].shape[0]"
   ]
  },
  {
   "cell_type": "code",
   "execution_count": 106,
   "metadata": {},
   "outputs": [
    {
     "data": {
      "text/plain": [
       "Sex      Pclass\n",
       "female   1         0.968085\n",
       "         2         0.921053\n",
       "         3         0.500000\n",
       "male     1         0.368852\n",
       "         2         0.149533\n",
       "         3         0.136232\n",
       "unknown  2         1.000000\n",
       "         3         0.250000\n",
       "Name: Survived, dtype: float64"
      ]
     },
     "execution_count": 106,
     "metadata": {},
     "output_type": "execute_result"
    }
   ],
   "source": [
    "df.groupby(['Sex', 'Pclass'])['Survived'].mean()"
   ]
  },
  {
   "cell_type": "code",
   "execution_count": 108,
   "metadata": {},
   "outputs": [],
   "source": [
    "df['Surname'] = df['Name'].apply(lambda x: x.split(';')[0])"
   ]
  },
  {
   "cell_type": "code",
   "execution_count": 117,
   "metadata": {},
   "outputs": [
    {
     "data": {
      "text/plain": [
       "Surname\n",
       "Andersson     9\n",
       "Asplund       4\n",
       "Baclini       4\n",
       "Brown         4\n",
       "Carter        6\n",
       "Ford          4\n",
       "Fortune       4\n",
       "Goodwin       6\n",
       "Gustafsson    4\n",
       "Harper        4\n",
       "Harris        4\n",
       "Hart          4\n",
       "Johnson       6\n",
       "Kelly         4\n",
       "Lefebre       4\n",
       "Palsson       4\n",
       "Panula        6\n",
       "Rice          5\n",
       "Sage          7\n",
       "Skoog         6\n",
       "Smith         4\n",
       "Williams      4\n",
       "Name: PassengerId, dtype: int64"
      ]
     },
     "execution_count": 117,
     "metadata": {},
     "output_type": "execute_result"
    }
   ],
   "source": [
    "df_new = df.groupby('Surname')['Survived'].aggregate(\n",
    "    lambda x: x.shape[0])\n",
    "df_new.loc[df_new > 3]"
   ]
  },
  {
   "cell_type": "code",
   "execution_count": 120,
   "metadata": {},
   "outputs": [
    {
     "data": {
      "text/plain": [
       "2"
      ]
     },
     "execution_count": 120,
     "metadata": {},
     "output_type": "execute_result"
    }
   ],
   "source": [
    "df.groupby(['Surname'])['Survived'].sum()['Andersson']"
   ]
  },
  {
   "cell_type": "code",
   "execution_count": 122,
   "metadata": {
    "collapsed": true
   },
   "outputs": [],
   "source": [
    "%matplotlib inline"
   ]
  },
  {
   "cell_type": "code",
   "execution_count": 123,
   "metadata": {
    "collapsed": true
   },
   "outputs": [],
   "source": [
    "import matplotlib.pyplot as plt"
   ]
  },
  {
   "cell_type": "code",
   "execution_count": 126,
   "metadata": {
    "collapsed": true
   },
   "outputs": [],
   "source": [
    "x = np.linspace(0, 2 * np.pi, 100)\n",
    "y = np.sin(x)\n",
    "z = np.cos(x)"
   ]
  },
  {
   "cell_type": "code",
   "execution_count": 132,
   "metadata": {},
   "outputs": [
    {
     "data": {
      "image/png": "[encoded data removed]",
      "text/plain": [
       "<matplotlib.figure.Figure at 0x1062af588>"
      ]
     },
     "metadata": {},
     "output_type": "display_data"
    }
   ],
   "source": [
    "plt.plot(x, y)\n",
    "plt.plot(x, z)\n",
    "plt.xlabel('x')\n",
    "plt.ylabel('y')\n",
    "plt.title('Plots')\n",
    "plt.legend(['sin', 'cos'])\n",
    "plt.savefig('./1.pdf')"
   ]
  },
  {
   "cell_type": "code",
   "execution_count": 133,
   "metadata": {
    "collapsed": true
   },
   "outputs": [],
   "source": [
    "x1 = np.random.normal(5, 1, 100)\n",
    "x2 = np.random.normal(5, 1, 100)"
   ]
  },
  {
   "cell_type": "code",
   "execution_count": 138,
   "metadata": {
    "collapsed": true
   },
   "outputs": [],
   "source": [
    "c = np.random.randint(0, 2, 100)"
   ]
  },
  {
   "cell_type": "code",
   "execution_count": 143,
   "metadata": {},
   "outputs": [
    {
     "data": {
      "text/plain": [
       "<matplotlib.collections.PathCollection at 0x10761f550>"
      ]
     },
     "execution_count": 143,
     "metadata": {},
     "output_type": "execute_result"
    },
    {
     "data": {
      "image/png": "[encoded data removed]",
      "text/plain": [
       "<matplotlib.figure.Figure at 0x1075f19e8>"
      ]
     },
     "metadata": {},
     "output_type": "display_data"
    }
   ],
   "source": [
    "plt.scatter(x1, x2, s=100, alpha=0.7, c=c)"
   ]
  },
  {
   "cell_type": "code",
   "execution_count": null,
   "metadata": {
    "collapsed": true
   },
   "outputs": [],
   "source": []
  }
 ],
 "metadata": {
  "kernelspec": {
   "display_name": "Python 3",
   "language": "python",
   "name": "python3"
  },
  "language_info": {
   "codemirror_mode": {
    "name": "ipython",
    "version": 3
   },
   "file_extension": ".py",
   "mimetype": "text/x-python",
   "name": "python",
   "nbconvert_exporter": "python",
   "pygments_lexer": "ipython3",
   "version": "3.5.2"
  }
 },
 "nbformat": 4,
 "nbformat_minor": 2
}
